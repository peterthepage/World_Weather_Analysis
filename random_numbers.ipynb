{
 "cells": [
  {
   "cell_type": "code",
   "execution_count": 1,
   "id": "db1e756a",
   "metadata": {},
   "outputs": [],
   "source": [
    "# Import the randome module.\n",
    "import random"
   ]
  },
  {
   "cell_type": "code",
   "execution_count": 2,
   "id": "bbb589a7",
   "metadata": {},
   "outputs": [
    {
     "data": {
      "text/plain": [
       "-70"
      ]
     },
     "execution_count": 2,
     "metadata": {},
     "output_type": "execute_result"
    }
   ],
   "source": [
    "random.randint(-90,90)"
   ]
  },
  {
   "cell_type": "code",
   "execution_count": 3,
   "id": "3d4375bb",
   "metadata": {},
   "outputs": [
    {
     "data": {
      "text/plain": [
       "0.5244601449408883"
      ]
     },
     "execution_count": 3,
     "metadata": {},
     "output_type": "execute_result"
    }
   ],
   "source": [
    "random.random()"
   ]
  },
  {
   "cell_type": "code",
   "execution_count": 5,
   "id": "a71b3160",
   "metadata": {},
   "outputs": [
    {
     "data": {
      "text/plain": [
       "[-58.95654805405162,\n",
       " 35.49353650920016,\n",
       " -87.21423613356266,\n",
       " -38.683645914436475,\n",
       " 55.10823622927129,\n",
       " -50.19679628441311,\n",
       " -4.768608955535102,\n",
       " -27.47631247332283,\n",
       " -19.596028230780153,\n",
       " 26.498128303916562]"
      ]
     },
     "execution_count": 5,
     "metadata": {},
     "output_type": "execute_result"
    }
   ],
   "source": [
    "x = 1\n",
    "latitudes = []\n",
    "while x < 11:\n",
    "    random_lat = random.randint(-90, 89) + random.random()\n",
    "    latitudes.append(random_lat)\n",
    "    x += 1\n",
    "latitudes"
   ]
  },
  {
   "cell_type": "code",
   "execution_count": 6,
   "id": "da779cb7",
   "metadata": {},
   "outputs": [
    {
     "data": {
      "text/plain": [
       "36"
      ]
     },
     "execution_count": 6,
     "metadata": {},
     "output_type": "execute_result"
    }
   ],
   "source": [
    "random.randrange(-90,90, step=1)"
   ]
  },
  {
   "cell_type": "code",
   "execution_count": 7,
   "id": "17bfe097",
   "metadata": {},
   "outputs": [
    {
     "data": {
      "text/plain": [
       "-78"
      ]
     },
     "execution_count": 7,
     "metadata": {},
     "output_type": "execute_result"
    }
   ],
   "source": [
    "random.randrange(-90, 90, step=3)"
   ]
  },
  {
   "cell_type": "code",
   "execution_count": 8,
   "id": "afba8bfd",
   "metadata": {},
   "outputs": [
    {
     "data": {
      "text/plain": [
       "-83.48113456115006"
      ]
     },
     "execution_count": 8,
     "metadata": {},
     "output_type": "execute_result"
    }
   ],
   "source": [
    "random.uniform(-90,90)"
   ]
  },
  {
   "cell_type": "code",
   "execution_count": 9,
   "id": "472ccbac",
   "metadata": {},
   "outputs": [],
   "source": [
    "#Import the NumPy module.\n",
    "import numpy as np"
   ]
  },
  {
   "cell_type": "code",
   "execution_count": 11,
   "id": "176d2764",
   "metadata": {},
   "outputs": [
    {
     "data": {
      "text/plain": [
       "array([-32.88514996,  17.51079571, -34.53298187, -76.82071025,\n",
       "        21.15437786, -20.09815176, -46.23305593,  60.56068331,\n",
       "        72.65796849,  64.03451616, -56.9954546 , -23.56736262,\n",
       "       -71.3023619 , -64.89018194,  34.95097482, -69.73090107,\n",
       "       -54.84272917, -48.72614947,  -4.46849697,  84.80679179,\n",
       "       -44.52154581,  78.02777361, -37.09317109, -73.959623  ,\n",
       "        43.6458469 ,  43.21545109, -16.350176  , -52.44514803,\n",
       "        -4.15761091,  26.02758227,  -4.80407556,  21.11986233,\n",
       "        13.5450093 , -63.22723717, -68.44672775,  31.28511744,\n",
       "       -56.89448642,  27.60876501, -58.28511776,  61.57163701,\n",
       "        42.20163205, -89.81457961,   5.11185136, -18.73903253,\n",
       "       -12.05652732, -49.89243907,  56.10966163,   3.55329377,\n",
       "         8.84116986, -81.76670457])"
      ]
     },
     "execution_count": 11,
     "metadata": {},
     "output_type": "execute_result"
    }
   ],
   "source": [
    "np.random.uniform(-90.000,90.000,size=50)"
   ]
  },
  {
   "cell_type": "code",
   "execution_count": 12,
   "id": "080dc15f",
   "metadata": {},
   "outputs": [],
   "source": [
    "#Import timeit.\n",
    "import timeit"
   ]
  },
  {
   "cell_type": "code",
   "execution_count": 13,
   "id": "29cb25eb",
   "metadata": {},
   "outputs": [
    {
     "name": "stdout",
     "output_type": "stream",
     "text": [
      "16.7 µs ± 319 ns per loop (mean ± std. dev. of 7 runs, 100000 loops each)\n"
     ]
    }
   ],
   "source": [
    "%timeit np.random.uniform(-90,90,size=1500)"
   ]
  },
  {
   "cell_type": "code",
   "execution_count": 15,
   "id": "8599dc56",
   "metadata": {},
   "outputs": [
    {
     "name": "stdout",
     "output_type": "stream",
     "text": [
      "2.64 ms ± 141 µs per loop (mean ± std. dev. of 7 runs, 100 loops each)\n"
     ]
    },
    {
     "data": {
      "text/plain": [
       "<function __main__.latitudes(size)>"
      ]
     },
     "execution_count": 15,
     "metadata": {},
     "output_type": "execute_result"
    }
   ],
   "source": [
    "def latitudes(size):\n",
    "    latitudes = []\n",
    "    x = 0\n",
    "    while x <(size):\n",
    "        random_lat = random.randint(-90,90) + random.random()\n",
    "        latitudes.append(random_lat)\n",
    "        x += 1\n",
    "    return latitudes\n",
    "#Call the function with 1500.\n",
    "%timeit latitudes(1500)"
   ]
  },
  {
   "cell_type": "code",
   "execution_count": null,
   "id": "349e1258",
   "metadata": {},
   "outputs": [],
   "source": []
  }
 ],
 "metadata": {
  "kernelspec": {
   "display_name": "PythonData",
   "language": "python",
   "name": "pythondata"
  },
  "language_info": {
   "codemirror_mode": {
    "name": "ipython",
    "version": 3
   },
   "file_extension": ".py",
   "mimetype": "text/x-python",
   "name": "python",
   "nbconvert_exporter": "python",
   "pygments_lexer": "ipython3",
   "version": "3.7.11"
  }
 },
 "nbformat": 4,
 "nbformat_minor": 5
}
