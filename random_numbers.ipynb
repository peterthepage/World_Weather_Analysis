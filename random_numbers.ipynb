{
 "cells": [
  {
   "cell_type": "code",
   "execution_count": 8,
   "id": "db1e756a",
   "metadata": {},
   "outputs": [],
   "source": [
    "# Import the randome module.\n",
    "import random"
   ]
  },
  {
   "cell_type": "code",
   "execution_count": 9,
   "id": "bbb589a7",
   "metadata": {},
   "outputs": [
    {
     "data": {
      "text/plain": [
       "-48"
      ]
     },
     "execution_count": 9,
     "metadata": {},
     "output_type": "execute_result"
    }
   ],
   "source": [
    "random.randint(-90,90)"
   ]
  },
  {
   "cell_type": "code",
   "execution_count": 10,
   "id": "3d4375bb",
   "metadata": {},
   "outputs": [
    {
     "data": {
      "text/plain": [
       "0.4456160763943072"
      ]
     },
     "execution_count": 10,
     "metadata": {},
     "output_type": "execute_result"
    }
   ],
   "source": [
    "random.random()"
   ]
  },
  {
   "cell_type": "code",
   "execution_count": 11,
   "id": "a71b3160",
   "metadata": {},
   "outputs": [
    {
     "data": {
      "text/plain": [
       "[-72.9207757927213,\n",
       " -27.20541438451,\n",
       " 16.11026733980442,\n",
       " 19.495219468482187,\n",
       " -28.44170130793752,\n",
       " -34.114370436730006,\n",
       " 11.539904901315001,\n",
       " -24.991294002753005,\n",
       " 0.6055322938827995,\n",
       " -87.99654214566326]"
      ]
     },
     "execution_count": 11,
     "metadata": {},
     "output_type": "execute_result"
    }
   ],
   "source": [
    "x = 1\n",
    "latitudes = []\n",
    "while x < 11:\n",
    "    random_lat = random.randint(-90, 89) + random.random()\n",
    "    latitudes.append(random_lat)\n",
    "    x += 1\n",
    "latitudes"
   ]
  },
  {
   "cell_type": "code",
   "execution_count": 12,
   "id": "da779cb7",
   "metadata": {},
   "outputs": [
    {
     "data": {
      "text/plain": [
       "6"
      ]
     },
     "execution_count": 12,
     "metadata": {},
     "output_type": "execute_result"
    }
   ],
   "source": [
    "random.randrange(-90,90, step=1)"
   ]
  },
  {
   "cell_type": "code",
   "execution_count": 13,
   "id": "17bfe097",
   "metadata": {},
   "outputs": [
    {
     "data": {
      "text/plain": [
       "-27"
      ]
     },
     "execution_count": 13,
     "metadata": {},
     "output_type": "execute_result"
    }
   ],
   "source": [
    "random.randrange(-90, 90, step=3)"
   ]
  },
  {
   "cell_type": "code",
   "execution_count": 14,
   "id": "afba8bfd",
   "metadata": {},
   "outputs": [
    {
     "data": {
      "text/plain": [
       "73.84349772550706"
      ]
     },
     "execution_count": 14,
     "metadata": {},
     "output_type": "execute_result"
    }
   ],
   "source": [
    "random.uniform(-90,90)"
   ]
  },
  {
   "cell_type": "code",
   "execution_count": 15,
   "id": "472ccbac",
   "metadata": {},
   "outputs": [],
   "source": [
    "#Import the NumPy module.\n",
    "import numpy as np"
   ]
  },
  {
   "cell_type": "code",
   "execution_count": 16,
   "id": "176d2764",
   "metadata": {},
   "outputs": [
    {
     "data": {
      "text/plain": [
       "array([ 79.61748092,  37.39292209,  16.71897303, -68.59837942,\n",
       "       -79.13453326,  71.02161152,  80.3058038 ,   8.48151622,\n",
       "       -36.53637961,  66.46945224,   9.69593673,  51.96059486,\n",
       "         0.77165865, -35.27591747,  87.58356979,  78.77945624,\n",
       "       -59.38219848,  61.12649741,   0.70619051, -52.2846663 ,\n",
       "       -77.94201497,  57.49224508, -65.82990528,  -0.62761442,\n",
       "       -61.6699591 ,  47.62560702, -18.30175135, -76.77869939,\n",
       "        54.35999571, -75.35942436,   8.21476704, -48.20296913,\n",
       "        87.92017261, -74.56507043, -21.53685297, -35.96013796,\n",
       "       -54.1820845 , -30.20579821, -42.07419494, -26.70470291,\n",
       "        69.03570898, -16.66981518,  86.81019313,  71.75038119,\n",
       "       -18.03460177,  -0.86106958,  46.4768793 ,  -4.15000857,\n",
       "        40.80292125,  64.15087503])"
      ]
     },
     "execution_count": 16,
     "metadata": {},
     "output_type": "execute_result"
    }
   ],
   "source": [
    "np.random.uniform(-90.000,90.000,size=50)"
   ]
  },
  {
   "cell_type": "code",
   "execution_count": 17,
   "id": "080dc15f",
   "metadata": {},
   "outputs": [],
   "source": [
    "#Import timeit.\n",
    "import timeit"
   ]
  },
  {
   "cell_type": "code",
   "execution_count": 18,
   "id": "29cb25eb",
   "metadata": {},
   "outputs": [
    {
     "name": "stdout",
     "output_type": "stream",
     "text": [
      "17.5 µs ± 989 ns per loop (mean ± std. dev. of 7 runs, 100000 loops each)\n"
     ]
    }
   ],
   "source": [
    "%timeit np.random.uniform(-90,90,size=1500)"
   ]
  },
  {
   "cell_type": "code",
   "execution_count": 19,
   "id": "8599dc56",
   "metadata": {},
   "outputs": [
    {
     "name": "stdout",
     "output_type": "stream",
     "text": [
      "2.68 ms ± 64.1 µs per loop (mean ± std. dev. of 7 runs, 100 loops each)\n"
     ]
    }
   ],
   "source": [
    "def latitudes(size):\n",
    "    latitudes = []\n",
    "    x = 0\n",
    "    while x <(size):\n",
    "        random_lat = random.randint(-90,90) + random.random()\n",
    "        latitudes.append(random_lat)\n",
    "        x += 1\n",
    "    return latitudes\n",
    "#Call the function with 1500.\n",
    "%timeit latitudes(1500)"
   ]
  },
  {
   "cell_type": "code",
   "execution_count": 20,
   "id": "349e1258",
   "metadata": {},
   "outputs": [],
   "source": [
    "#Import linear regression from the SciPy stats module.\n",
    "from scipy.stats import linregress"
   ]
  },
  {
   "cell_type": "code",
   "execution_count": 21,
   "id": "1e4c6acd",
   "metadata": {},
   "outputs": [],
   "source": [
    "# Create an equal number of latitudes and temperatures.\n",
    "lats = [42.5, 43.9, 8.1, 36.8, 79.9, 69.1, 25.7, 15.3, 12.7, 64.5]\n",
    "temps = [80.5, 75.3, 90.9, 90.0, 40.4, 62.3, 85.4, 79.6, 72.5, 72.0]"
   ]
  },
  {
   "cell_type": "code",
   "execution_count": 22,
   "id": "97adadb8",
   "metadata": {},
   "outputs": [
    {
     "name": "stdout",
     "output_type": "stream",
     "text": [
      "y = -0.45x + 92.94\n",
      "The p-value is: 0.010897\n"
     ]
    }
   ],
   "source": [
    "#Perform linear regression.\n",
    "(slope, intercept, r_value, p_value, std_err) = linregress(lats, temps)\n",
    "#Get the equation of the line.\n",
    "line_eq = 'y = ' +str(round(slope,2)) + 'x + ' + str(round(intercept,2))\n",
    "print(line_eq)\n",
    "print(f'The p-value is: {p_value:3f}')"
   ]
  },
  {
   "cell_type": "code",
   "execution_count": 23,
   "id": "ebaec236",
   "metadata": {},
   "outputs": [],
   "source": [
    "#Calculate the regression line 'y values' from the slope and intercept.\n",
    "regress_values = [(lat * slope + intercept) for lat in lats]"
   ]
  },
  {
   "cell_type": "code",
   "execution_count": 24,
   "id": "6511129d",
   "metadata": {},
   "outputs": [
    {
     "data": {
      "image/png": "[encoded data removed]",
      "text/plain": [
       "<Figure size 432x288 with 1 Axes>"
      ]
     },
     "metadata": {
      "needs_background": "light"
     },
     "output_type": "display_data"
    }
   ],
   "source": [
    "#Import Matplotlib.\n",
    "import matplotlib.pyplot as plt\n",
    "#Create a scatter plot of the x and y values.\n",
    "plt.scatter(lats, temps)\n",
    "#Plot the regression line with the x-values and the y coordinates based on the intercept and slope.\n",
    "plt.plot(lats,regress_values,'r')\n",
    "#Annotate the text for the line equation and add its coordinates.\n",
    "plt.annotate(line_eq, (10,40), fontsize=15, color='red')\n",
    "plt.xlabel('Latitude')\n",
    "plt.ylabel('Temp')\n",
    "plt.grid(True)\n",
    "plt.show()"
   ]
  },
  {
   "cell_type": "code",
   "execution_count": 7,
   "id": "bf20b9fd",
   "metadata": {},
   "outputs": [],
   "source": []
  },
  {
   "cell_type": "code",
   "execution_count": null,
   "id": "7bf2e828",
   "metadata": {},
   "outputs": [],
   "source": []
  }
 ],
 "metadata": {
  "kernelspec": {
   "display_name": "PythonData",
   "language": "python",
   "name": "pythondata"
  },
  "language_info": {
   "codemirror_mode": {
    "name": "ipython",
    "version": 3
   },
   "file_extension": ".py",
   "mimetype": "text/x-python",
   "name": "python",
   "nbconvert_exporter": "python",
   "pygments_lexer": "ipython3",
   "version": "3.7.11"
  }
 },
 "nbformat": 4,
 "nbformat_minor": 5
}
